{
 "cells": [
  {
   "attachments": {},
   "cell_type": "markdown",
   "metadata": {},
   "source": [
    "# <ins>**GAME DESIGN- PART 2**<ins>\n",
    "\n",
    "---\n",
    "---"
   ]
  },
  {
   "attachments": {},
   "cell_type": "markdown",
   "metadata": {},
   "source": [
    "## <ins>**Identifying and Defining**<ins>"
   ]
  },
  {
   "attachments": {},
   "cell_type": "markdown",
   "metadata": {},
   "source": [
    "### **Identifying a Need:** \n",
    "This game will be a game that aims to cure the worldspred disease of boredom. It's objective is to provide entertainment through a fun and enjoyable game. It can also provide useful skills to young children, for example, hand eye coordination, tuning motor skills, improving spatial awareness and problem solving. A fun an educational game is usually how a child learns and develops their skills, so this game's objective will be to complete each level and defeat the bosses."
   ]
  },
  {
   "attachments": {},
   "cell_type": "markdown",
   "metadata": {},
   "source": [
    "### **Requirements Outline:**\n",
    "**Inputs:** My game will require a keyboard and mouse, used to navigate and play the game. They require inputs of the direstional keys for the character to move and the spacebar for jumping as well as a mouse preferably to shoot, but the keyboard will have an input for that as well\\\n",
    "**Processing:** The program will calculate the new postion of the character and check to see if any inputs are received such as shooting or if the character has picked up something new such as a health orb or a different weapon\\\n",
    "**Outputs:** The game will display the characte's position, enemies that need to be killed, and a game over message when you're defeated\\\n",
    "**Transmission:** There is no need for data transmission\\\n",
    "**Storage:** The game will store the user's progress throughout the different levels and inventory"
   ]
  },
  {
   "attachments": {},
   "cell_type": "markdown",
   "metadata": {},
   "source": [
    "### **Functional Requirements:**\n",
    "**User Interaction:** User will interact using a keyboard and mouse. The inputs are then processed and displayed accordingly. The movement keys will be WASD with W going towards where your cursor is, A going left, D going Right, and S going Back/ Down. The mosue will be used to control which direction your character is going when pressing W. Left click will be used to use your weapon. Right click will be used to interact with objects.\\\n",
    "**Core Gameplay or Simulation Mechanics:** \n",
    "The inputs of this game will be processed using scripts in unity and then visualised on the screen accordingly.The game will involve movement using the WASD keys, directional control using the mouse/cursor, using weapons with left click, and interacting with items using right click. There will be enemies throughtout the different levels that you need to eliminate using weapons.\\\n",
    "**Scoring and Feedback:**\n",
    "This game will track your progress as you complete each level, giving you harder rooms and enemies as you progress further into the game.\n",
    "**Level Progression or Simulation Stages:**\n",
    "The progression system will work in levels. It will only allow you to progress if you have reached a certain room that is found in that level. These rooms will only be found after a few different varietie of rooms that contain enemies, chests, or other things. The game will include 10+ different levels to provide a variety of different themes.\n",
    "**Saving and Loading:**\n",
    "The game will save the which level the player is at and their inventory. It will not however save your exact location within the level, but instead send you back to the start."
   ]
  },
  {
   "attachments": {},
   "cell_type": "markdown",
   "metadata": {},
   "source": [
    "### **Non-Functional Requrements:**\n",
    "**Performance Requirements:**\n",
    "The system should within a few seconds if you have a pc with average specs, it should be able to take inputs and then output them instantly without any input lag\\\n",
    "**Usability Requirements:**\n",
    "The controls will be relatively easy to understand, but if you do fail to understand them, the game will provide a tutorial so that you can get used to the controls. \\\n",
    "**Compatibility Requirements:**\n",
    "The currently will only run on pc through the unity software, using a keyboard for interaction and giving inputs so that the game can process and output that visually through the game.\\\n",
    "**Scalibility Requirements:**\n",
    "The game will initailly come with 15 levels but, if i do get bored and find i have nothing else to do, i may add more levels. Theses additional levels shouldn't have a major impact on performance.\\\n",
    "**Secxurity Requirements:**\n",
    "The game will not collect any user data or personal inhformation, it will only save your current level and inventory. It will be store securely to ensure privacy.\\\n",
    "**8Reliability and Availibilty:**\n",
    "The project will only need internet to access unity, other than that it should be accesible at most times."
   ]
  },
  {
   "attachments": {},
   "cell_type": "markdown",
   "metadata": {},
   "source": [
    "### **Consideration of Social and Ethical Issues:**\n",
    "**Definitions of Key Terms:**\n",
    "*Equity-* The quality of being fair and impartial\\\n",
    "*Accessibility-*The quality of being able to be reached or entered, easy to obtain or use\\\n",
    "**Accessibility:**\n",
    "This game will be accessible to everyone as long as you have access to a laptop and the internet. It will be playable if you are not blind or if you have hands.\\\n",
    "**Privacy and Data Protection:**\n",
    "No this project wiull not collefct user data or any personal information concerning the user/player. It will only save data relevant to the game such as character location and their inventory.\\\n",
    "**Fairness and Representation:**\n",
    "The game is fair and will provide the same experience for everyone unless you do have a disability that hinders your ability to play. It will supply a variety o0f characters to choose from and all the enemies will not be negative to any race or culture.\\\n",
    "**Mental and Emotional Well-Being:**\n",
    "This game shuoldn't affect a user's mental health. It will not be that difficult that it makes them angry and want to smach the monitor.\\\n",
    "**Cultural Sensitivities:**\n",
    "This game will not contain any offensive content to the different culturesd around the world. It will not have any inappropriate or harmful symbols or themes.\n"
   ]
  },
  {
   "attachments": {},
   "cell_type": "markdown",
   "metadata": {},
   "source": [
    "---\n",
    "---"
   ]
  }
 ],
 "metadata": {
  "language_info": {
   "name": "python"
  },
  "orig_nbformat": 4
 },
 "nbformat": 4,
 "nbformat_minor": 2
}
